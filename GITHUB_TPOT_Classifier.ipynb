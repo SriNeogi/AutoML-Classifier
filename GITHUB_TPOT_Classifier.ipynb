{
 "cells": [
  {
   "cell_type": "markdown",
   "id": "c6508314-fdb5-40cf-9ac8-9b97d47f4ef9",
   "metadata": {},
   "source": [
    "# TPOT Classifier\n",
    "TPOT is a Tree-based Pipeline Optimization Tool for classification\n",
    "Population Size: This parameter determines the number of different machine learning pipelines that are initially generated and evaluated in each generation of the evolutionary process.\n",
    "Generations: This parameter controls the number of iterations or \"generations\" that the evolutionary process runs for.\n",
    "New pipelines are created through genetic operations like mutation (slightly modifying existing pipelines) and crossover (combining parts of two existing pipelines).\n",
    "Summary:\n",
    "Population Size controls the breadth of the initial search.\n",
    "Generations control the depth of the search, allowing TPOT to refine its solutions over time."
   ]
  },
  {
   "cell_type": "code",
   "execution_count": 52,
   "id": "e4f27925-556d-4e44-b5c3-d1a1f78c34e5",
   "metadata": {},
   "outputs": [],
   "source": [
    "import numpy as np\n",
    "import pandas as pd\n",
    "import tensorflow as tf\n",
    "from tensorflow import keras\n",
    "import torch.nn as nn\n",
    "from tpot import TPOTClassifier\n",
    "from sklearn.model_selection import GridSearchCV\n",
    "from sklearn.preprocessing import MinMaxScaler\n",
    "from sklearn.model_selection import train_test_split\n",
    "import seaborn as sns\n",
    "import matplotlib.pyplot as plt\n",
    "plt.style.use('fivethirtyeight')\n",
    "%matplotlib inline"
   ]
  },
  {
   "cell_type": "code",
   "execution_count": 53,
   "id": "6fb173c7-b878-4ec8-8b58-6a21d3ab084d",
   "metadata": {},
   "outputs": [],
   "source": [
    "deals= pd.read_csv('Sample_Data_Deals2.csv')\n",
    "#Change column type from Object to Category for columns 3,4,5\n",
    "for col in ['Country', 'Industry', 'Deal Status']:\n",
    "    deals[col] = deals[col].astype('category')"
   ]
  },
  {
   "cell_type": "code",
   "execution_count": 54,
   "id": "1bfac3a3-045d-4eb3-8df5-91a728b99dfd",
   "metadata": {},
   "outputs": [
    {
     "name": "stdout",
     "output_type": "stream",
     "text": [
      "<class 'pandas.core.frame.DataFrame'>\n",
      "RangeIndex: 100 entries, 0 to 99\n",
      "Data columns (total 6 columns):\n",
      " #   Column         Non-Null Count  Dtype   \n",
      "---  ------         --------------  -----   \n",
      " 0   OrderID        100 non-null    object  \n",
      " 1   OrderQuantity  100 non-null    int64   \n",
      " 2   OrderValue     100 non-null    int64   \n",
      " 3   Country        100 non-null    category\n",
      " 4   Industry       100 non-null    category\n",
      " 5   Deal Status    100 non-null    category\n",
      "dtypes: category(3), int64(2), object(1)\n",
      "memory usage: 3.4+ KB\n"
     ]
    }
   ],
   "source": [
    "deals.info()"
   ]
  },
  {
   "cell_type": "code",
   "execution_count": 55,
   "id": "18e3e42c-e958-422b-8828-a7d0dbea7461",
   "metadata": {},
   "outputs": [
    {
     "data": {
      "text/html": [
       "<div>\n",
       "<style scoped>\n",
       "    .dataframe tbody tr th:only-of-type {\n",
       "        vertical-align: middle;\n",
       "    }\n",
       "\n",
       "    .dataframe tbody tr th {\n",
       "        vertical-align: top;\n",
       "    }\n",
       "\n",
       "    .dataframe thead th {\n",
       "        text-align: right;\n",
       "    }\n",
       "</style>\n",
       "<table border=\"1\" class=\"dataframe\">\n",
       "  <thead>\n",
       "    <tr style=\"text-align: right;\">\n",
       "      <th></th>\n",
       "      <th>OrderQuantity</th>\n",
       "      <th>OrderValue</th>\n",
       "      <th>Country</th>\n",
       "      <th>Industry</th>\n",
       "      <th>Deal Status</th>\n",
       "    </tr>\n",
       "  </thead>\n",
       "  <tbody>\n",
       "    <tr>\n",
       "      <th>0</th>\n",
       "      <td>371</td>\n",
       "      <td>383</td>\n",
       "      <td>Canada</td>\n",
       "      <td>Technology</td>\n",
       "      <td>Won</td>\n",
       "    </tr>\n",
       "    <tr>\n",
       "      <th>1</th>\n",
       "      <td>163</td>\n",
       "      <td>121</td>\n",
       "      <td>Canada</td>\n",
       "      <td>Finance</td>\n",
       "      <td>Won</td>\n",
       "    </tr>\n",
       "    <tr>\n",
       "      <th>2</th>\n",
       "      <td>191</td>\n",
       "      <td>117</td>\n",
       "      <td>Australia</td>\n",
       "      <td>Manufacturing</td>\n",
       "      <td>Lost</td>\n",
       "    </tr>\n",
       "    <tr>\n",
       "      <th>3</th>\n",
       "      <td>150</td>\n",
       "      <td>143</td>\n",
       "      <td>Australia</td>\n",
       "      <td>Manufacturing</td>\n",
       "      <td>Lost</td>\n",
       "    </tr>\n",
       "    <tr>\n",
       "      <th>4</th>\n",
       "      <td>165</td>\n",
       "      <td>148</td>\n",
       "      <td>Australia</td>\n",
       "      <td>Manufacturing</td>\n",
       "      <td>Lost</td>\n",
       "    </tr>\n",
       "  </tbody>\n",
       "</table>\n",
       "</div>"
      ],
      "text/plain": [
       "   OrderQuantity  OrderValue    Country       Industry Deal Status\n",
       "0            371         383     Canada     Technology         Won\n",
       "1            163         121     Canada        Finance         Won\n",
       "2            191         117  Australia  Manufacturing        Lost\n",
       "3            150         143  Australia  Manufacturing        Lost\n",
       "4            165         148  Australia  Manufacturing        Lost"
      ]
     },
     "execution_count": 55,
     "metadata": {},
     "output_type": "execute_result"
    }
   ],
   "source": [
    "#Drop Order ID\n",
    "deals1 = pd.DataFrame(deals.iloc[:,1:])\n",
    "deals1.head()"
   ]
  },
  {
   "cell_type": "code",
   "execution_count": 56,
   "id": "f39c3403-0ea7-44a7-a4f1-ec4b7d5cb76e",
   "metadata": {},
   "outputs": [
    {
     "data": {
      "text/plain": [
       "<bound method IndexOpsMixin.nunique of 0        Canada\n",
       "1        Canada\n",
       "2     Australia\n",
       "3     Australia\n",
       "4     Australia\n",
       "        ...    \n",
       "95      Germany\n",
       "96      Germany\n",
       "97      Germany\n",
       "98      Germany\n",
       "99      Germany\n",
       "Name: Country, Length: 100, dtype: category\n",
       "Categories (5, object): ['Australia', 'Canada', 'China', 'France', 'Germany']>"
      ]
     },
     "execution_count": 56,
     "metadata": {},
     "output_type": "execute_result"
    }
   ],
   "source": [
    "deals1['Country'].nunique"
   ]
  },
  {
   "cell_type": "code",
   "execution_count": 57,
   "id": "9ce2c35a-9409-42e9-a765-a142c2bfd7ad",
   "metadata": {},
   "outputs": [
    {
     "data": {
      "text/plain": [
       "<bound method IndexOpsMixin.nunique of 0        Technology\n",
       "1           Finance\n",
       "2     Manufacturing\n",
       "3     Manufacturing\n",
       "4     Manufacturing\n",
       "          ...      \n",
       "95           Energy\n",
       "96       Government\n",
       "97       Government\n",
       "98           Energy\n",
       "99       Technology\n",
       "Name: Industry, Length: 100, dtype: category\n",
       "Categories (7, object): ['Energy', 'Finance', 'Government', 'Healthcare', 'Manufacturing', 'Retail', 'Technology']>"
      ]
     },
     "execution_count": 57,
     "metadata": {},
     "output_type": "execute_result"
    }
   ],
   "source": [
    "deals1['Industry'].nunique"
   ]
  },
  {
   "cell_type": "code",
   "execution_count": 58,
   "id": "e2624b25-f8dc-441f-8410-6cd1bf50ff8e",
   "metadata": {},
   "outputs": [
    {
     "name": "stdout",
     "output_type": "stream",
     "text": [
      "   OrderQuantity  OrderValue Country Industry Deal Status\n",
      "0            371         383       2        7           1\n",
      "1            163         121       2        2           1\n",
      "2            191         117       1        5           0\n",
      "3            150         143       1        5           0\n",
      "4            165         148       1        5           0\n"
     ]
    }
   ],
   "source": [
    "#Encoding categorical data, \n",
    "Country = {'Australia': 1, 'Canada':2, 'China':3, 'France':4, 'Germany':5}\n",
    "deals1['Country'] = deals1['Country'].map(Country)\n",
    "\n",
    "Industry = {'Energy':1, 'Finance':2, 'Government':3, 'Healthcare':4, 'Manufacturing':5, 'Retail':6, 'Technology':7}\n",
    "deals1['Industry'] = deals1['Industry'].map(Industry)\n",
    "\n",
    "dealstat= {'Won':1, 'Lost':0}\n",
    "deals1['Deal Status'] = deals1['Deal Status'].map(dealstat)\n",
    "\n",
    "print(deals1.head())"
   ]
  },
  {
   "cell_type": "code",
   "execution_count": 59,
   "id": "72c5d574-6c66-4777-8aa3-15b2b0e586ed",
   "metadata": {},
   "outputs": [],
   "source": [
    "#Create x and y datasets\n",
    "X = deals1.drop('Deal Status',axis=1).values\n",
    "y = deals1['Deal Status'].values"
   ]
  },
  {
   "cell_type": "code",
   "execution_count": 60,
   "id": "e47a5176-e5b2-4e78-ac64-344102009124",
   "metadata": {},
   "outputs": [],
   "source": [
    " X_train, X_test, y_train, y_test = train_test_split(X, y, test_size=0.25, random_state=101)"
   ]
  },
  {
   "cell_type": "code",
   "execution_count": 61,
   "id": "2c6ff97b-eeeb-4bb5-b456-e3922e641e1b",
   "metadata": {},
   "outputs": [],
   "source": [
    "#Transform your data\n",
    "scaler=MinMaxScaler()\n",
    "X_train = scaler.fit_transform(X_train)\n",
    "X_test = scaler.transform(X_test)"
   ]
  },
  {
   "cell_type": "code",
   "execution_count": 62,
   "id": "fa5f23a3-b393-46b9-b39c-4035479ea3d4",
   "metadata": {},
   "outputs": [
    {
     "data": {
      "application/vnd.jupyter.widget-view+json": {
       "model_id": "4c2d02f43fa74b9e880b998fc102e91d",
       "version_major": 2,
       "version_minor": 0
      },
      "text/plain": [
       "Optimization Progress:   0%|          | 0/50 [00:00<?, ?pipeline/s]"
      ]
     },
     "metadata": {},
     "output_type": "display_data"
    },
    {
     "name": "stdout",
     "output_type": "stream",
     "text": [
      "\n",
      "Generation 1 - Current best internal CV score: 0.6599999999999999\n",
      "\n",
      "Generation 2 - Current best internal CV score: 0.6599999999999999\n",
      "\n",
      "Generation 3 - Current best internal CV score: 0.6599999999999999\n",
      "\n",
      "Generation 4 - Current best internal CV score: 0.6599999999999999\n",
      "\n",
      "Generation 5 - Current best internal CV score: 0.6599999999999999\n",
      "\n",
      "Generation 6 - Current best internal CV score: 0.6599999999999999\n",
      "\n",
      "Generation 7 - Current best internal CV score: 0.6599999999999999\n",
      "\n",
      "Generation 8 - Current best internal CV score: 0.6599999999999999\n",
      "\n",
      "Generation 9 - Current best internal CV score: 0.6599999999999999\n",
      "\n",
      "Generation 10 - Current best internal CV score: 0.6599999999999999\n",
      "\n",
      "Best pipeline: DecisionTreeClassifier(input_matrix, criterion=gini, max_depth=9, min_samples_leaf=15, min_samples_split=15)\n"
     ]
    },
    {
     "data": {
      "application/vnd.jupyter.widget-view+json": {
       "model_id": "bb48af9af6cc437bb37937af500e742f",
       "version_major": 2,
       "version_minor": 0
      },
      "text/plain": [
       "Optimization Progress:   0%|          | 0/50 [00:00<?, ?pipeline/s]"
      ]
     },
     "metadata": {},
     "output_type": "display_data"
    },
    {
     "name": "stdout",
     "output_type": "stream",
     "text": [
      "\n",
      "Generation 1 - Current best internal CV score: 0.7\n",
      "\n",
      "Generation 2 - Current best internal CV score: 0.7\n",
      "\n",
      "Generation 3 - Current best internal CV score: 0.7\n",
      "\n",
      "Generation 4 - Current best internal CV score: 0.7\n",
      "\n",
      "Generation 5 - Current best internal CV score: 0.74\n",
      "\n",
      "Generation 6 - Current best internal CV score: 0.74\n",
      "\n",
      "Generation 7 - Current best internal CV score: 0.74\n",
      "\n",
      "Generation 8 - Current best internal CV score: 0.74\n",
      "\n",
      "Generation 9 - Current best internal CV score: 0.74\n",
      "\n",
      "Generation 10 - Current best internal CV score: 0.74\n",
      "\n",
      "Best pipeline: GradientBoostingClassifier(ZeroCount(input_matrix), learning_rate=0.1, max_depth=4, max_features=0.35000000000000003, min_samples_leaf=6, min_samples_split=10, n_estimators=100, subsample=0.35000000000000003)\n"
     ]
    },
    {
     "data": {
      "application/vnd.jupyter.widget-view+json": {
       "model_id": "dcde0b1dcf874f4591a6d88c424a2043",
       "version_major": 2,
       "version_minor": 0
      },
      "text/plain": [
       "Optimization Progress:   0%|          | 0/50 [00:00<?, ?pipeline/s]"
      ]
     },
     "metadata": {},
     "output_type": "display_data"
    },
    {
     "name": "stdout",
     "output_type": "stream",
     "text": [
      "\n",
      "Generation 1 - Current best internal CV score: 0.64\n",
      "\n",
      "Generation 2 - Current best internal CV score: 0.68\n",
      "\n",
      "Generation 3 - Current best internal CV score: 0.72\n",
      "\n",
      "Generation 4 - Current best internal CV score: 0.72\n",
      "\n",
      "Generation 5 - Current best internal CV score: 0.72\n",
      "\n",
      "Generation 6 - Current best internal CV score: 0.72\n",
      "\n",
      "Generation 7 - Current best internal CV score: 0.72\n",
      "\n",
      "3.00 minutes have elapsed. TPOT will close down.\n",
      "TPOT closed during evaluation in one generation.\n",
      "WARNING: TPOT may not provide a good pipeline if TPOT is stopped/interrupted in a early generation.\n",
      "\n",
      "\n",
      "TPOT closed prematurely. Will use the current best pipeline.\n",
      "\n",
      "Best pipeline: GradientBoostingClassifier(input_matrix, learning_rate=0.001, max_depth=2, max_features=0.05, min_samples_leaf=2, min_samples_split=6, n_estimators=100, subsample=1.0)\n"
     ]
    },
    {
     "data": {
      "application/vnd.jupyter.widget-view+json": {
       "model_id": "82e582a18d1b4b3aa60aa8867ff1b359",
       "version_major": 2,
       "version_minor": 0
      },
      "text/plain": [
       "Optimization Progress:   0%|          | 0/100 [00:00<?, ?pipeline/s]"
      ]
     },
     "metadata": {},
     "output_type": "display_data"
    },
    {
     "name": "stdout",
     "output_type": "stream",
     "text": [
      "\n",
      "Generation 1 - Current best internal CV score: 0.6599999999999999\n",
      "\n",
      "Generation 2 - Current best internal CV score: 0.6599999999999999\n",
      "\n",
      "Generation 3 - Current best internal CV score: 0.6599999999999999\n",
      "\n",
      "3.00 minutes have elapsed. TPOT will close down.\n",
      "TPOT closed during evaluation in one generation.\n",
      "WARNING: TPOT may not provide a good pipeline if TPOT is stopped/interrupted in a early generation.\n",
      "\n",
      "\n",
      "TPOT closed prematurely. Will use the current best pipeline.\n",
      "\n",
      "Best pipeline: DecisionTreeClassifier(input_matrix, criterion=gini, max_depth=9, min_samples_leaf=15, min_samples_split=15)\n"
     ]
    },
    {
     "data": {
      "application/vnd.jupyter.widget-view+json": {
       "model_id": "748177d570624c968280c0aed2392864",
       "version_major": 2,
       "version_minor": 0
      },
      "text/plain": [
       "Optimization Progress:   0%|          | 0/100 [00:00<?, ?pipeline/s]"
      ]
     },
     "metadata": {},
     "output_type": "display_data"
    },
    {
     "name": "stdout",
     "output_type": "stream",
     "text": [
      "\n",
      "Generation 1 - Current best internal CV score: 0.72\n",
      "\n",
      "Generation 2 - Current best internal CV score: 0.72\n",
      "\n",
      "Generation 3 - Current best internal CV score: 0.72\n",
      "\n",
      "Generation 4 - Current best internal CV score: 0.76\n",
      "\n",
      "Generation 5 - Current best internal CV score: 0.76\n",
      "\n",
      "Generation 6 - Current best internal CV score: 0.76\n",
      "\n",
      "Generation 7 - Current best internal CV score: 0.76\n",
      "\n",
      "3.00 minutes have elapsed. TPOT will close down.\n",
      "TPOT closed during evaluation in one generation.\n",
      "WARNING: TPOT may not provide a good pipeline if TPOT is stopped/interrupted in a early generation.\n",
      "\n",
      "\n",
      "TPOT closed prematurely. Will use the current best pipeline.\n",
      "\n",
      "Best pipeline: XGBClassifier(input_matrix, learning_rate=1.0, max_depth=6, min_child_weight=1, n_estimators=100, n_jobs=1, subsample=0.4, verbosity=0)\n"
     ]
    },
    {
     "data": {
      "application/vnd.jupyter.widget-view+json": {
       "model_id": "424dd760a2b141729b09b40ae5d8f23d",
       "version_major": 2,
       "version_minor": 0
      },
      "text/plain": [
       "Optimization Progress:   0%|          | 0/100 [00:00<?, ?pipeline/s]"
      ]
     },
     "metadata": {},
     "output_type": "display_data"
    },
    {
     "name": "stdout",
     "output_type": "stream",
     "text": [
      "\n",
      "Generation 1 - Current best internal CV score: 0.7\n",
      "\n",
      "Generation 2 - Current best internal CV score: 0.7\n",
      "\n",
      "Generation 3 - Current best internal CV score: 0.7\n",
      "\n",
      "3.00 minutes have elapsed. TPOT will close down.\n",
      "TPOT closed during evaluation in one generation.\n",
      "WARNING: TPOT may not provide a good pipeline if TPOT is stopped/interrupted in a early generation.\n",
      "\n",
      "\n",
      "TPOT closed prematurely. Will use the current best pipeline.\n",
      "\n",
      "Best pipeline: RandomForestClassifier(KNeighborsClassifier(input_matrix, n_neighbors=90, p=1, weights=uniform), bootstrap=False, criterion=gini, max_features=0.25, min_samples_leaf=4, min_samples_split=9, n_estimators=100)\n"
     ]
    },
    {
     "data": {
      "application/vnd.jupyter.widget-view+json": {
       "model_id": "0ce4ddab76d44984a3cbaddd7e90592b",
       "version_major": 2,
       "version_minor": 0
      },
      "text/plain": [
       "Optimization Progress:   0%|          | 0/200 [00:00<?, ?pipeline/s]"
      ]
     },
     "metadata": {},
     "output_type": "display_data"
    },
    {
     "name": "stdout",
     "output_type": "stream",
     "text": [
      "\n",
      "Generation 1 - Current best internal CV score: 0.6599999999999999\n",
      "\n",
      "3.01 minutes have elapsed. TPOT will close down.\n",
      "TPOT closed during evaluation in one generation.\n",
      "WARNING: TPOT may not provide a good pipeline if TPOT is stopped/interrupted in a early generation.\n",
      "\n",
      "\n",
      "TPOT closed prematurely. Will use the current best pipeline.\n",
      "\n",
      "Best pipeline: DecisionTreeClassifier(input_matrix, criterion=gini, max_depth=9, min_samples_leaf=15, min_samples_split=15)\n"
     ]
    },
    {
     "data": {
      "application/vnd.jupyter.widget-view+json": {
       "model_id": "9c8357779835463dbc873f46bb41e3b1",
       "version_major": 2,
       "version_minor": 0
      },
      "text/plain": [
       "Optimization Progress:   0%|          | 0/200 [00:00<?, ?pipeline/s]"
      ]
     },
     "metadata": {},
     "output_type": "display_data"
    },
    {
     "name": "stdout",
     "output_type": "stream",
     "text": [
      "\n",
      "Generation 1 - Current best internal CV score: 0.72\n",
      "\n",
      "3.02 minutes have elapsed. TPOT will close down.\n",
      "TPOT closed during evaluation in one generation.\n",
      "WARNING: TPOT may not provide a good pipeline if TPOT is stopped/interrupted in a early generation.\n",
      "\n",
      "\n",
      "TPOT closed prematurely. Will use the current best pipeline.\n",
      "\n",
      "Best pipeline: GradientBoostingClassifier(input_matrix, learning_rate=1.0, max_depth=3, max_features=0.15000000000000002, min_samples_leaf=16, min_samples_split=10, n_estimators=100, subsample=0.8)\n"
     ]
    },
    {
     "data": {
      "application/vnd.jupyter.widget-view+json": {
       "model_id": "734e37df295649799918adf48e77ee0d",
       "version_major": 2,
       "version_minor": 0
      },
      "text/plain": [
       "Optimization Progress:   0%|          | 0/200 [00:00<?, ?pipeline/s]"
      ]
     },
     "metadata": {},
     "output_type": "display_data"
    },
    {
     "name": "stdout",
     "output_type": "stream",
     "text": [
      "\n",
      "Generation 1 - Current best internal CV score: 0.7\n",
      "\n",
      "3.01 minutes have elapsed. TPOT will close down.\n",
      "TPOT closed during evaluation in one generation.\n",
      "WARNING: TPOT may not provide a good pipeline if TPOT is stopped/interrupted in a early generation.\n",
      "\n",
      "\n",
      "TPOT closed prematurely. Will use the current best pipeline.\n",
      "\n",
      "Best pipeline: RandomForestClassifier(KNeighborsClassifier(input_matrix, n_neighbors=90, p=1, weights=uniform), bootstrap=False, criterion=gini, max_features=0.25, min_samples_leaf=4, min_samples_split=9, n_estimators=100)\n"
     ]
    },
    {
     "data": {
      "application/vnd.jupyter.widget-view+json": {
       "model_id": "91bc22585b6644b4935114fdbc684489",
       "version_major": 2,
       "version_minor": 0
      },
      "text/plain": [
       "Optimization Progress:   0%|          | 0/50 [00:00<?, ?pipeline/s]"
      ]
     },
     "metadata": {},
     "output_type": "display_data"
    },
    {
     "name": "stdout",
     "output_type": "stream",
     "text": [
      "\n",
      "Generation 1 - Current best internal CV score: 0.6599999999999999\n",
      "\n",
      "Generation 2 - Current best internal CV score: 0.6599999999999999\n",
      "\n",
      "Generation 3 - Current best internal CV score: 0.6599999999999999\n",
      "\n",
      "Generation 4 - Current best internal CV score: 0.6599999999999999\n",
      "\n",
      "Generation 5 - Current best internal CV score: 0.6599999999999999\n",
      "\n",
      "Generation 6 - Current best internal CV score: 0.6599999999999999\n",
      "\n",
      "Generation 7 - Current best internal CV score: 0.6599999999999999\n",
      "\n",
      "Generation 8 - Current best internal CV score: 0.6599999999999999\n",
      "\n",
      "Generation 9 - Current best internal CV score: 0.6599999999999999\n",
      "\n",
      "Generation 10 - Current best internal CV score: 0.6599999999999999\n",
      "\n",
      "Generation 11 - Current best internal CV score: 0.6599999999999999\n",
      "\n",
      "Generation 12 - Current best internal CV score: 0.6599999999999999\n",
      "\n",
      "Generation 13 - Current best internal CV score: 0.6599999999999999\n",
      "\n",
      "Generation 14 - Current best internal CV score: 0.6599999999999999\n",
      "\n",
      "Generation 15 - Current best internal CV score: 0.6599999999999999\n",
      "\n",
      "Generation 16 - Current best internal CV score: 0.6599999999999999\n",
      "\n",
      "Generation 17 - Current best internal CV score: 0.6599999999999999\n",
      "\n",
      "Generation 18 - Current best internal CV score: 0.6599999999999999\n",
      "\n",
      "3.00 minutes have elapsed. TPOT will close down.\n",
      "TPOT closed during evaluation in one generation.\n",
      "WARNING: TPOT may not provide a good pipeline if TPOT is stopped/interrupted in a early generation.\n",
      "\n",
      "\n",
      "TPOT closed prematurely. Will use the current best pipeline.\n",
      "\n",
      "Best pipeline: DecisionTreeClassifier(input_matrix, criterion=gini, max_depth=9, min_samples_leaf=15, min_samples_split=15)\n"
     ]
    },
    {
     "data": {
      "application/vnd.jupyter.widget-view+json": {
       "model_id": "726cd7c2903e450e8943d86858cbcb98",
       "version_major": 2,
       "version_minor": 0
      },
      "text/plain": [
       "Optimization Progress:   0%|          | 0/50 [00:00<?, ?pipeline/s]"
      ]
     },
     "metadata": {},
     "output_type": "display_data"
    },
    {
     "name": "stdout",
     "output_type": "stream",
     "text": [
      "\n",
      "Generation 1 - Current best internal CV score: 0.7\n",
      "\n",
      "Generation 2 - Current best internal CV score: 0.7\n",
      "\n",
      "Generation 3 - Current best internal CV score: 0.7\n",
      "\n",
      "Generation 4 - Current best internal CV score: 0.7\n",
      "\n",
      "Generation 5 - Current best internal CV score: 0.74\n",
      "\n",
      "Generation 6 - Current best internal CV score: 0.74\n",
      "\n",
      "Generation 7 - Current best internal CV score: 0.74\n",
      "\n",
      "Generation 8 - Current best internal CV score: 0.74\n",
      "\n",
      "Generation 9 - Current best internal CV score: 0.74\n",
      "\n",
      "Generation 10 - Current best internal CV score: 0.74\n",
      "\n",
      "Generation 11 - Current best internal CV score: 0.74\n",
      "\n",
      "Generation 12 - Current best internal CV score: 0.76\n",
      "\n",
      "Generation 13 - Current best internal CV score: 0.76\n",
      "\n",
      "Generation 14 - Current best internal CV score: 0.76\n",
      "\n",
      "3.00 minutes have elapsed. TPOT will close down.\n",
      "TPOT closed during evaluation in one generation.\n",
      "WARNING: TPOT may not provide a good pipeline if TPOT is stopped/interrupted in a early generation.\n",
      "\n",
      "\n",
      "TPOT closed prematurely. Will use the current best pipeline.\n",
      "\n",
      "Best pipeline: XGBClassifier(input_matrix, learning_rate=1.0, max_depth=9, min_child_weight=1, n_estimators=100, n_jobs=1, subsample=0.4, verbosity=0)\n"
     ]
    },
    {
     "data": {
      "application/vnd.jupyter.widget-view+json": {
       "model_id": "aceaa04ead0a43a189fdfd21fa836f0e",
       "version_major": 2,
       "version_minor": 0
      },
      "text/plain": [
       "Optimization Progress:   0%|          | 0/50 [00:00<?, ?pipeline/s]"
      ]
     },
     "metadata": {},
     "output_type": "display_data"
    },
    {
     "name": "stdout",
     "output_type": "stream",
     "text": [
      "\n",
      "Generation 1 - Current best internal CV score: 0.64\n",
      "\n",
      "Generation 2 - Current best internal CV score: 0.68\n",
      "\n",
      "Generation 3 - Current best internal CV score: 0.72\n",
      "\n",
      "Generation 4 - Current best internal CV score: 0.72\n",
      "\n",
      "Generation 5 - Current best internal CV score: 0.72\n",
      "\n",
      "Generation 6 - Current best internal CV score: 0.72\n",
      "\n",
      "Generation 7 - Current best internal CV score: 0.72\n",
      "\n",
      "3.00 minutes have elapsed. TPOT will close down.\n",
      "TPOT closed during evaluation in one generation.\n",
      "WARNING: TPOT may not provide a good pipeline if TPOT is stopped/interrupted in a early generation.\n",
      "\n",
      "\n",
      "TPOT closed prematurely. Will use the current best pipeline.\n",
      "\n",
      "Best pipeline: GradientBoostingClassifier(input_matrix, learning_rate=0.001, max_depth=2, max_features=0.05, min_samples_leaf=2, min_samples_split=6, n_estimators=100, subsample=1.0)\n"
     ]
    },
    {
     "data": {
      "application/vnd.jupyter.widget-view+json": {
       "model_id": "e4f16cd3f2eb4506994014ad51b5d03e",
       "version_major": 2,
       "version_minor": 0
      },
      "text/plain": [
       "Optimization Progress:   0%|          | 0/100 [00:00<?, ?pipeline/s]"
      ]
     },
     "metadata": {},
     "output_type": "display_data"
    },
    {
     "name": "stdout",
     "output_type": "stream",
     "text": [
      "\n",
      "Generation 1 - Current best internal CV score: 0.6599999999999999\n",
      "\n",
      "Generation 2 - Current best internal CV score: 0.6599999999999999\n",
      "\n",
      "Generation 3 - Current best internal CV score: 0.6599999999999999\n",
      "\n",
      "3.01 minutes have elapsed. TPOT will close down.\n",
      "TPOT closed during evaluation in one generation.\n",
      "WARNING: TPOT may not provide a good pipeline if TPOT is stopped/interrupted in a early generation.\n",
      "\n",
      "\n",
      "TPOT closed prematurely. Will use the current best pipeline.\n",
      "\n",
      "Best pipeline: DecisionTreeClassifier(input_matrix, criterion=gini, max_depth=9, min_samples_leaf=15, min_samples_split=15)\n"
     ]
    },
    {
     "data": {
      "application/vnd.jupyter.widget-view+json": {
       "model_id": "6f39ba15bdc74eb085ab507efd0d35ff",
       "version_major": 2,
       "version_minor": 0
      },
      "text/plain": [
       "Optimization Progress:   0%|          | 0/100 [00:00<?, ?pipeline/s]"
      ]
     },
     "metadata": {},
     "output_type": "display_data"
    },
    {
     "name": "stdout",
     "output_type": "stream",
     "text": [
      "\n",
      "Generation 1 - Current best internal CV score: 0.72\n",
      "\n",
      "Generation 2 - Current best internal CV score: 0.72\n",
      "\n",
      "Generation 3 - Current best internal CV score: 0.72\n",
      "\n",
      "Generation 4 - Current best internal CV score: 0.76\n",
      "\n",
      "Generation 5 - Current best internal CV score: 0.76\n",
      "\n",
      "Generation 6 - Current best internal CV score: 0.76\n",
      "\n",
      "Generation 7 - Current best internal CV score: 0.76\n",
      "\n",
      "3.02 minutes have elapsed. TPOT will close down.\n",
      "TPOT closed during evaluation in one generation.\n",
      "WARNING: TPOT may not provide a good pipeline if TPOT is stopped/interrupted in a early generation.\n",
      "\n",
      "\n",
      "TPOT closed prematurely. Will use the current best pipeline.\n",
      "\n",
      "Best pipeline: XGBClassifier(input_matrix, learning_rate=1.0, max_depth=6, min_child_weight=1, n_estimators=100, n_jobs=1, subsample=0.4, verbosity=0)\n"
     ]
    },
    {
     "data": {
      "application/vnd.jupyter.widget-view+json": {
       "model_id": "c79ae00ca9834f8daa5017b12377697f",
       "version_major": 2,
       "version_minor": 0
      },
      "text/plain": [
       "Optimization Progress:   0%|          | 0/100 [00:00<?, ?pipeline/s]"
      ]
     },
     "metadata": {},
     "output_type": "display_data"
    },
    {
     "name": "stdout",
     "output_type": "stream",
     "text": [
      "\n",
      "Generation 1 - Current best internal CV score: 0.7\n",
      "\n",
      "Generation 2 - Current best internal CV score: 0.7\n",
      "\n",
      "Generation 3 - Current best internal CV score: 0.7\n",
      "\n",
      "3.00 minutes have elapsed. TPOT will close down.\n",
      "TPOT closed during evaluation in one generation.\n",
      "WARNING: TPOT may not provide a good pipeline if TPOT is stopped/interrupted in a early generation.\n",
      "\n",
      "\n",
      "TPOT closed prematurely. Will use the current best pipeline.\n",
      "\n",
      "Best pipeline: RandomForestClassifier(KNeighborsClassifier(input_matrix, n_neighbors=90, p=1, weights=uniform), bootstrap=False, criterion=gini, max_features=0.25, min_samples_leaf=4, min_samples_split=9, n_estimators=100)\n"
     ]
    },
    {
     "data": {
      "application/vnd.jupyter.widget-view+json": {
       "model_id": "5285efe04d9b412aa671d67e615dd8fe",
       "version_major": 2,
       "version_minor": 0
      },
      "text/plain": [
       "Optimization Progress:   0%|          | 0/200 [00:00<?, ?pipeline/s]"
      ]
     },
     "metadata": {},
     "output_type": "display_data"
    },
    {
     "name": "stdout",
     "output_type": "stream",
     "text": [
      "\n",
      "Generation 1 - Current best internal CV score: 0.6599999999999999\n",
      "\n",
      "3.00 minutes have elapsed. TPOT will close down.\n",
      "TPOT closed during evaluation in one generation.\n",
      "WARNING: TPOT may not provide a good pipeline if TPOT is stopped/interrupted in a early generation.\n",
      "\n",
      "\n",
      "TPOT closed prematurely. Will use the current best pipeline.\n",
      "\n",
      "Best pipeline: DecisionTreeClassifier(input_matrix, criterion=gini, max_depth=9, min_samples_leaf=15, min_samples_split=15)\n"
     ]
    },
    {
     "data": {
      "application/vnd.jupyter.widget-view+json": {
       "model_id": "cf69a705f89441f983d981067662593e",
       "version_major": 2,
       "version_minor": 0
      },
      "text/plain": [
       "Optimization Progress:   0%|          | 0/200 [00:00<?, ?pipeline/s]"
      ]
     },
     "metadata": {},
     "output_type": "display_data"
    },
    {
     "name": "stdout",
     "output_type": "stream",
     "text": [
      "\n",
      "Generation 1 - Current best internal CV score: 0.72\n",
      "\n",
      "3.01 minutes have elapsed. TPOT will close down.\n",
      "TPOT closed during evaluation in one generation.\n",
      "WARNING: TPOT may not provide a good pipeline if TPOT is stopped/interrupted in a early generation.\n",
      "\n",
      "\n",
      "TPOT closed prematurely. Will use the current best pipeline.\n",
      "\n",
      "Best pipeline: GradientBoostingClassifier(input_matrix, learning_rate=1.0, max_depth=3, max_features=0.15000000000000002, min_samples_leaf=16, min_samples_split=10, n_estimators=100, subsample=0.8)\n"
     ]
    },
    {
     "data": {
      "application/vnd.jupyter.widget-view+json": {
       "model_id": "079797bc8d774fab8935b979f8080c41",
       "version_major": 2,
       "version_minor": 0
      },
      "text/plain": [
       "Optimization Progress:   0%|          | 0/200 [00:00<?, ?pipeline/s]"
      ]
     },
     "metadata": {},
     "output_type": "display_data"
    },
    {
     "name": "stdout",
     "output_type": "stream",
     "text": [
      "\n",
      "Generation 1 - Current best internal CV score: 0.7\n",
      "\n",
      "3.00 minutes have elapsed. TPOT will close down.\n",
      "TPOT closed during evaluation in one generation.\n",
      "WARNING: TPOT may not provide a good pipeline if TPOT is stopped/interrupted in a early generation.\n",
      "\n",
      "\n",
      "TPOT closed prematurely. Will use the current best pipeline.\n",
      "\n",
      "Best pipeline: RandomForestClassifier(KNeighborsClassifier(input_matrix, n_neighbors=90, p=1, weights=uniform), bootstrap=False, criterion=gini, max_features=0.25, min_samples_leaf=4, min_samples_split=9, n_estimators=100)\n"
     ]
    },
    {
     "data": {
      "application/vnd.jupyter.widget-view+json": {
       "model_id": "0ddee12fba394781b612f0731199d091",
       "version_major": 2,
       "version_minor": 0
      },
      "text/plain": [
       "Optimization Progress:   0%|          | 0/50 [00:00<?, ?pipeline/s]"
      ]
     },
     "metadata": {},
     "output_type": "display_data"
    },
    {
     "name": "stdout",
     "output_type": "stream",
     "text": [
      "\n",
      "Generation 1 - Current best internal CV score: 0.6599999999999999\n",
      "\n",
      "Generation 2 - Current best internal CV score: 0.6599999999999999\n",
      "\n",
      "Generation 3 - Current best internal CV score: 0.6599999999999999\n",
      "\n",
      "Generation 4 - Current best internal CV score: 0.6599999999999999\n",
      "\n",
      "Generation 5 - Current best internal CV score: 0.6599999999999999\n",
      "\n",
      "Generation 6 - Current best internal CV score: 0.6599999999999999\n",
      "\n",
      "Generation 7 - Current best internal CV score: 0.6599999999999999\n",
      "\n",
      "Generation 8 - Current best internal CV score: 0.6599999999999999\n",
      "\n",
      "Generation 9 - Current best internal CV score: 0.6599999999999999\n",
      "\n",
      "Generation 10 - Current best internal CV score: 0.6599999999999999\n",
      "\n",
      "Generation 11 - Current best internal CV score: 0.6599999999999999\n",
      "\n",
      "Generation 12 - Current best internal CV score: 0.6599999999999999\n",
      "\n",
      "Generation 13 - Current best internal CV score: 0.6599999999999999\n",
      "\n",
      "Generation 14 - Current best internal CV score: 0.6599999999999999\n",
      "\n",
      "Generation 15 - Current best internal CV score: 0.6599999999999999\n",
      "\n",
      "Generation 16 - Current best internal CV score: 0.6599999999999999\n",
      "\n",
      "Generation 17 - Current best internal CV score: 0.6599999999999999\n",
      "\n",
      "Generation 18 - Current best internal CV score: 0.6599999999999999\n",
      "\n",
      "Generation 19 - Current best internal CV score: 0.6599999999999999\n",
      "\n",
      "Generation 20 - Current best internal CV score: 0.6599999999999999\n",
      "\n",
      "Generation 21 - Current best internal CV score: 0.6599999999999999\n",
      "\n",
      "Generation 22 - Current best internal CV score: 0.6599999999999999\n",
      "\n",
      "3.00 minutes have elapsed. TPOT will close down.\n",
      "TPOT closed during evaluation in one generation.\n",
      "WARNING: TPOT may not provide a good pipeline if TPOT is stopped/interrupted in a early generation.\n",
      "\n",
      "\n",
      "TPOT closed prematurely. Will use the current best pipeline.\n",
      "\n",
      "Best pipeline: DecisionTreeClassifier(input_matrix, criterion=gini, max_depth=9, min_samples_leaf=15, min_samples_split=15)\n"
     ]
    },
    {
     "data": {
      "application/vnd.jupyter.widget-view+json": {
       "model_id": "fbcbbf6aa6d04b60aa34f521ebc8b440",
       "version_major": 2,
       "version_minor": 0
      },
      "text/plain": [
       "Optimization Progress:   0%|          | 0/50 [00:00<?, ?pipeline/s]"
      ]
     },
     "metadata": {},
     "output_type": "display_data"
    },
    {
     "name": "stdout",
     "output_type": "stream",
     "text": [
      "\n",
      "Generation 1 - Current best internal CV score: 0.7\n",
      "\n",
      "Generation 2 - Current best internal CV score: 0.7\n",
      "\n",
      "Generation 3 - Current best internal CV score: 0.7\n",
      "\n",
      "Generation 4 - Current best internal CV score: 0.7\n",
      "\n",
      "Generation 5 - Current best internal CV score: 0.74\n",
      "\n",
      "Generation 6 - Current best internal CV score: 0.74\n",
      "\n",
      "Generation 7 - Current best internal CV score: 0.74\n",
      "\n",
      "Generation 8 - Current best internal CV score: 0.74\n",
      "\n",
      "Generation 9 - Current best internal CV score: 0.74\n",
      "\n",
      "Generation 10 - Current best internal CV score: 0.74\n",
      "\n",
      "Generation 11 - Current best internal CV score: 0.74\n",
      "\n",
      "Generation 12 - Current best internal CV score: 0.76\n",
      "\n",
      "Generation 13 - Current best internal CV score: 0.76\n",
      "\n",
      "Generation 14 - Current best internal CV score: 0.76\n",
      "\n",
      "Generation 15 - Current best internal CV score: 0.76\n",
      "\n",
      "3.04 minutes have elapsed. TPOT will close down.\n",
      "TPOT closed during evaluation in one generation.\n",
      "WARNING: TPOT may not provide a good pipeline if TPOT is stopped/interrupted in a early generation.\n",
      "\n",
      "\n",
      "TPOT closed prematurely. Will use the current best pipeline.\n",
      "\n",
      "Best pipeline: XGBClassifier(input_matrix, learning_rate=1.0, max_depth=9, min_child_weight=1, n_estimators=100, n_jobs=1, subsample=0.4, verbosity=0)\n"
     ]
    },
    {
     "data": {
      "application/vnd.jupyter.widget-view+json": {
       "model_id": "772a5efbb9e544d0a0c1a1e651c6851d",
       "version_major": 2,
       "version_minor": 0
      },
      "text/plain": [
       "Optimization Progress:   0%|          | 0/50 [00:00<?, ?pipeline/s]"
      ]
     },
     "metadata": {},
     "output_type": "display_data"
    },
    {
     "name": "stdout",
     "output_type": "stream",
     "text": [
      "\n",
      "Generation 1 - Current best internal CV score: 0.64\n",
      "\n",
      "Generation 2 - Current best internal CV score: 0.68\n",
      "\n",
      "Generation 3 - Current best internal CV score: 0.72\n",
      "\n",
      "Generation 4 - Current best internal CV score: 0.72\n",
      "\n",
      "Generation 5 - Current best internal CV score: 0.72\n",
      "\n",
      "Generation 6 - Current best internal CV score: 0.72\n",
      "\n",
      "Generation 7 - Current best internal CV score: 0.72\n",
      "\n",
      "Generation 8 - Current best internal CV score: 0.72\n",
      "\n",
      "3.02 minutes have elapsed. TPOT will close down.\n",
      "TPOT closed during evaluation in one generation.\n",
      "WARNING: TPOT may not provide a good pipeline if TPOT is stopped/interrupted in a early generation.\n",
      "\n",
      "\n",
      "TPOT closed prematurely. Will use the current best pipeline.\n",
      "\n",
      "Best pipeline: GradientBoostingClassifier(input_matrix, learning_rate=0.001, max_depth=2, max_features=0.05, min_samples_leaf=2, min_samples_split=6, n_estimators=100, subsample=1.0)\n"
     ]
    },
    {
     "data": {
      "application/vnd.jupyter.widget-view+json": {
       "model_id": "b2c13398e7f14cd487ac684bd659f7f4",
       "version_major": 2,
       "version_minor": 0
      },
      "text/plain": [
       "Optimization Progress:   0%|          | 0/100 [00:00<?, ?pipeline/s]"
      ]
     },
     "metadata": {},
     "output_type": "display_data"
    },
    {
     "name": "stdout",
     "output_type": "stream",
     "text": [
      "\n",
      "Generation 1 - Current best internal CV score: 0.6599999999999999\n",
      "\n",
      "Generation 2 - Current best internal CV score: 0.6599999999999999\n",
      "\n",
      "Generation 3 - Current best internal CV score: 0.6599999999999999\n",
      "\n",
      "3.00 minutes have elapsed. TPOT will close down.\n",
      "TPOT closed during evaluation in one generation.\n",
      "WARNING: TPOT may not provide a good pipeline if TPOT is stopped/interrupted in a early generation.\n",
      "\n",
      "\n",
      "TPOT closed prematurely. Will use the current best pipeline.\n",
      "\n",
      "Best pipeline: DecisionTreeClassifier(input_matrix, criterion=gini, max_depth=9, min_samples_leaf=15, min_samples_split=15)\n"
     ]
    },
    {
     "data": {
      "application/vnd.jupyter.widget-view+json": {
       "model_id": "57b48d8f2e9c4949a8843d1966b7e595",
       "version_major": 2,
       "version_minor": 0
      },
      "text/plain": [
       "Optimization Progress:   0%|          | 0/100 [00:00<?, ?pipeline/s]"
      ]
     },
     "metadata": {},
     "output_type": "display_data"
    },
    {
     "name": "stdout",
     "output_type": "stream",
     "text": [
      "\n",
      "Generation 1 - Current best internal CV score: 0.72\n",
      "\n",
      "Generation 2 - Current best internal CV score: 0.72\n",
      "\n",
      "Generation 3 - Current best internal CV score: 0.72\n",
      "\n",
      "Generation 4 - Current best internal CV score: 0.76\n",
      "\n",
      "Generation 5 - Current best internal CV score: 0.76\n",
      "\n",
      "Generation 6 - Current best internal CV score: 0.76\n",
      "\n",
      "Generation 7 - Current best internal CV score: 0.76\n",
      "\n",
      "3.01 minutes have elapsed. TPOT will close down.\n",
      "TPOT closed during evaluation in one generation.\n",
      "WARNING: TPOT may not provide a good pipeline if TPOT is stopped/interrupted in a early generation.\n",
      "\n",
      "\n",
      "TPOT closed prematurely. Will use the current best pipeline.\n",
      "\n",
      "Best pipeline: XGBClassifier(input_matrix, learning_rate=1.0, max_depth=6, min_child_weight=1, n_estimators=100, n_jobs=1, subsample=0.4, verbosity=0)\n"
     ]
    },
    {
     "data": {
      "application/vnd.jupyter.widget-view+json": {
       "model_id": "9be7f754729b4b7ca5bc946ed1ed4ead",
       "version_major": 2,
       "version_minor": 0
      },
      "text/plain": [
       "Optimization Progress:   0%|          | 0/100 [00:00<?, ?pipeline/s]"
      ]
     },
     "metadata": {},
     "output_type": "display_data"
    },
    {
     "name": "stdout",
     "output_type": "stream",
     "text": [
      "\n",
      "Generation 1 - Current best internal CV score: 0.7\n",
      "\n",
      "Generation 2 - Current best internal CV score: 0.7\n",
      "\n",
      "Generation 3 - Current best internal CV score: 0.7\n",
      "\n",
      "3.00 minutes have elapsed. TPOT will close down.\n",
      "TPOT closed during evaluation in one generation.\n",
      "WARNING: TPOT may not provide a good pipeline if TPOT is stopped/interrupted in a early generation.\n",
      "\n",
      "\n",
      "TPOT closed prematurely. Will use the current best pipeline.\n",
      "\n",
      "Best pipeline: RandomForestClassifier(KNeighborsClassifier(input_matrix, n_neighbors=90, p=1, weights=uniform), bootstrap=False, criterion=gini, max_features=0.25, min_samples_leaf=4, min_samples_split=9, n_estimators=100)\n"
     ]
    },
    {
     "data": {
      "application/vnd.jupyter.widget-view+json": {
       "model_id": "e8438e0b21f24072908205497acd4853",
       "version_major": 2,
       "version_minor": 0
      },
      "text/plain": [
       "Optimization Progress:   0%|          | 0/200 [00:00<?, ?pipeline/s]"
      ]
     },
     "metadata": {},
     "output_type": "display_data"
    },
    {
     "name": "stdout",
     "output_type": "stream",
     "text": [
      "\n",
      "Generation 1 - Current best internal CV score: 0.6599999999999999\n",
      "\n",
      "3.00 minutes have elapsed. TPOT will close down.\n",
      "TPOT closed during evaluation in one generation.\n",
      "WARNING: TPOT may not provide a good pipeline if TPOT is stopped/interrupted in a early generation.\n",
      "\n",
      "\n",
      "TPOT closed prematurely. Will use the current best pipeline.\n",
      "\n",
      "Best pipeline: DecisionTreeClassifier(input_matrix, criterion=gini, max_depth=9, min_samples_leaf=15, min_samples_split=15)\n"
     ]
    },
    {
     "data": {
      "application/vnd.jupyter.widget-view+json": {
       "model_id": "1b7984ac1c074961ba1a827049292999",
       "version_major": 2,
       "version_minor": 0
      },
      "text/plain": [
       "Optimization Progress:   0%|          | 0/200 [00:00<?, ?pipeline/s]"
      ]
     },
     "metadata": {},
     "output_type": "display_data"
    },
    {
     "name": "stdout",
     "output_type": "stream",
     "text": [
      "\n",
      "Generation 1 - Current best internal CV score: 0.72\n",
      "\n",
      "3.01 minutes have elapsed. TPOT will close down.\n",
      "TPOT closed during evaluation in one generation.\n",
      "WARNING: TPOT may not provide a good pipeline if TPOT is stopped/interrupted in a early generation.\n",
      "\n",
      "\n",
      "TPOT closed prematurely. Will use the current best pipeline.\n",
      "\n",
      "Best pipeline: GradientBoostingClassifier(input_matrix, learning_rate=1.0, max_depth=3, max_features=0.15000000000000002, min_samples_leaf=16, min_samples_split=10, n_estimators=100, subsample=0.8)\n"
     ]
    },
    {
     "data": {
      "application/vnd.jupyter.widget-view+json": {
       "model_id": "b0fbed9ea25745528d942420266242d9",
       "version_major": 2,
       "version_minor": 0
      },
      "text/plain": [
       "Optimization Progress:   0%|          | 0/200 [00:00<?, ?pipeline/s]"
      ]
     },
     "metadata": {},
     "output_type": "display_data"
    },
    {
     "name": "stdout",
     "output_type": "stream",
     "text": [
      "\n",
      "Generation 1 - Current best internal CV score: 0.7\n",
      "\n",
      "3.01 minutes have elapsed. TPOT will close down.\n",
      "TPOT closed during evaluation in one generation.\n",
      "WARNING: TPOT may not provide a good pipeline if TPOT is stopped/interrupted in a early generation.\n",
      "\n",
      "\n",
      "TPOT closed prematurely. Will use the current best pipeline.\n",
      "\n",
      "Best pipeline: RandomForestClassifier(KNeighborsClassifier(input_matrix, n_neighbors=90, p=1, weights=uniform), bootstrap=False, criterion=gini, max_features=0.25, min_samples_leaf=4, min_samples_split=9, n_estimators=100)\n"
     ]
    },
    {
     "data": {
      "application/vnd.jupyter.widget-view+json": {
       "model_id": "0690dc47f8bc401393c7583ecd9e0cf9",
       "version_major": 2,
       "version_minor": 0
      },
      "text/plain": [
       "Optimization Progress:   0%|          | 0/50 [00:00<?, ?pipeline/s]"
      ]
     },
     "metadata": {},
     "output_type": "display_data"
    },
    {
     "name": "stdout",
     "output_type": "stream",
     "text": [
      "\n",
      "Generation 1 - Current best internal CV score: 0.6533333333333333\n",
      "\n",
      "Generation 2 - Current best internal CV score: 0.6533333333333333\n",
      "\n",
      "Generation 3 - Current best internal CV score: 0.6799999999999999\n",
      "\n",
      "Generation 4 - Current best internal CV score: 0.6799999999999999\n",
      "\n",
      "Generation 5 - Current best internal CV score: 0.6799999999999999\n",
      "\n",
      "Generation 6 - Current best internal CV score: 0.6799999999999999\n",
      "\n",
      "Generation 7 - Current best internal CV score: 0.6799999999999999\n",
      "\n",
      "Generation 8 - Current best internal CV score: 0.6799999999999999\n",
      "\n",
      "3.00 minutes have elapsed. TPOT will close down.\n",
      "TPOT closed during evaluation in one generation.\n",
      "WARNING: TPOT may not provide a good pipeline if TPOT is stopped/interrupted in a early generation.\n",
      "\n",
      "\n",
      "TPOT closed prematurely. Will use the current best pipeline.\n",
      "\n",
      "Best pipeline: GradientBoostingClassifier(input_matrix, learning_rate=0.1, max_depth=5, max_features=0.6000000000000001, min_samples_leaf=13, min_samples_split=14, n_estimators=100, subsample=0.6000000000000001)\n"
     ]
    },
    {
     "data": {
      "text/html": [
       "<style>#sk-container-id-5 {\n",
       "  /* Definition of color scheme common for light and dark mode */\n",
       "  --sklearn-color-text: black;\n",
       "  --sklearn-color-line: gray;\n",
       "  /* Definition of color scheme for unfitted estimators */\n",
       "  --sklearn-color-unfitted-level-0: #fff5e6;\n",
       "  --sklearn-color-unfitted-level-1: #f6e4d2;\n",
       "  --sklearn-color-unfitted-level-2: #ffe0b3;\n",
       "  --sklearn-color-unfitted-level-3: chocolate;\n",
       "  /* Definition of color scheme for fitted estimators */\n",
       "  --sklearn-color-fitted-level-0: #f0f8ff;\n",
       "  --sklearn-color-fitted-level-1: #d4ebff;\n",
       "  --sklearn-color-fitted-level-2: #b3dbfd;\n",
       "  --sklearn-color-fitted-level-3: cornflowerblue;\n",
       "\n",
       "  /* Specific color for light theme */\n",
       "  --sklearn-color-text-on-default-background: var(--sg-text-color, var(--theme-code-foreground, var(--jp-content-font-color1, black)));\n",
       "  --sklearn-color-background: var(--sg-background-color, var(--theme-background, var(--jp-layout-color0, white)));\n",
       "  --sklearn-color-border-box: var(--sg-text-color, var(--theme-code-foreground, var(--jp-content-font-color1, black)));\n",
       "  --sklearn-color-icon: #696969;\n",
       "\n",
       "  @media (prefers-color-scheme: dark) {\n",
       "    /* Redefinition of color scheme for dark theme */\n",
       "    --sklearn-color-text-on-default-background: var(--sg-text-color, var(--theme-code-foreground, var(--jp-content-font-color1, white)));\n",
       "    --sklearn-color-background: var(--sg-background-color, var(--theme-background, var(--jp-layout-color0, #111)));\n",
       "    --sklearn-color-border-box: var(--sg-text-color, var(--theme-code-foreground, var(--jp-content-font-color1, white)));\n",
       "    --sklearn-color-icon: #878787;\n",
       "  }\n",
       "}\n",
       "\n",
       "#sk-container-id-5 {\n",
       "  color: var(--sklearn-color-text);\n",
       "}\n",
       "\n",
       "#sk-container-id-5 pre {\n",
       "  padding: 0;\n",
       "}\n",
       "\n",
       "#sk-container-id-5 input.sk-hidden--visually {\n",
       "  border: 0;\n",
       "  clip: rect(1px 1px 1px 1px);\n",
       "  clip: rect(1px, 1px, 1px, 1px);\n",
       "  height: 1px;\n",
       "  margin: -1px;\n",
       "  overflow: hidden;\n",
       "  padding: 0;\n",
       "  position: absolute;\n",
       "  width: 1px;\n",
       "}\n",
       "\n",
       "#sk-container-id-5 div.sk-dashed-wrapped {\n",
       "  border: 1px dashed var(--sklearn-color-line);\n",
       "  margin: 0 0.4em 0.5em 0.4em;\n",
       "  box-sizing: border-box;\n",
       "  padding-bottom: 0.4em;\n",
       "  background-color: var(--sklearn-color-background);\n",
       "}\n",
       "\n",
       "#sk-container-id-5 div.sk-container {\n",
       "  /* jupyter's `normalize.less` sets `[hidden] { display: none; }`\n",
       "     but bootstrap.min.css set `[hidden] { display: none !important; }`\n",
       "     so we also need the `!important` here to be able to override the\n",
       "     default hidden behavior on the sphinx rendered scikit-learn.org.\n",
       "     See: https://github.com/scikit-learn/scikit-learn/issues/21755 */\n",
       "  display: inline-block !important;\n",
       "  position: relative;\n",
       "}\n",
       "\n",
       "#sk-container-id-5 div.sk-text-repr-fallback {\n",
       "  display: none;\n",
       "}\n",
       "\n",
       "div.sk-parallel-item,\n",
       "div.sk-serial,\n",
       "div.sk-item {\n",
       "  /* draw centered vertical line to link estimators */\n",
       "  background-image: linear-gradient(var(--sklearn-color-text-on-default-background), var(--sklearn-color-text-on-default-background));\n",
       "  background-size: 2px 100%;\n",
       "  background-repeat: no-repeat;\n",
       "  background-position: center center;\n",
       "}\n",
       "\n",
       "/* Parallel-specific style estimator block */\n",
       "\n",
       "#sk-container-id-5 div.sk-parallel-item::after {\n",
       "  content: \"\";\n",
       "  width: 100%;\n",
       "  border-bottom: 2px solid var(--sklearn-color-text-on-default-background);\n",
       "  flex-grow: 1;\n",
       "}\n",
       "\n",
       "#sk-container-id-5 div.sk-parallel {\n",
       "  display: flex;\n",
       "  align-items: stretch;\n",
       "  justify-content: center;\n",
       "  background-color: var(--sklearn-color-background);\n",
       "  position: relative;\n",
       "}\n",
       "\n",
       "#sk-container-id-5 div.sk-parallel-item {\n",
       "  display: flex;\n",
       "  flex-direction: column;\n",
       "}\n",
       "\n",
       "#sk-container-id-5 div.sk-parallel-item:first-child::after {\n",
       "  align-self: flex-end;\n",
       "  width: 50%;\n",
       "}\n",
       "\n",
       "#sk-container-id-5 div.sk-parallel-item:last-child::after {\n",
       "  align-self: flex-start;\n",
       "  width: 50%;\n",
       "}\n",
       "\n",
       "#sk-container-id-5 div.sk-parallel-item:only-child::after {\n",
       "  width: 0;\n",
       "}\n",
       "\n",
       "/* Serial-specific style estimator block */\n",
       "\n",
       "#sk-container-id-5 div.sk-serial {\n",
       "  display: flex;\n",
       "  flex-direction: column;\n",
       "  align-items: center;\n",
       "  background-color: var(--sklearn-color-background);\n",
       "  padding-right: 1em;\n",
       "  padding-left: 1em;\n",
       "}\n",
       "\n",
       "\n",
       "/* Toggleable style: style used for estimator/Pipeline/ColumnTransformer box that is\n",
       "clickable and can be expanded/collapsed.\n",
       "- Pipeline and ColumnTransformer use this feature and define the default style\n",
       "- Estimators will overwrite some part of the style using the `sk-estimator` class\n",
       "*/\n",
       "\n",
       "/* Pipeline and ColumnTransformer style (default) */\n",
       "\n",
       "#sk-container-id-5 div.sk-toggleable {\n",
       "  /* Default theme specific background. It is overwritten whether we have a\n",
       "  specific estimator or a Pipeline/ColumnTransformer */\n",
       "  background-color: var(--sklearn-color-background);\n",
       "}\n",
       "\n",
       "/* Toggleable label */\n",
       "#sk-container-id-5 label.sk-toggleable__label {\n",
       "  cursor: pointer;\n",
       "  display: block;\n",
       "  width: 100%;\n",
       "  margin-bottom: 0;\n",
       "  padding: 0.5em;\n",
       "  box-sizing: border-box;\n",
       "  text-align: center;\n",
       "}\n",
       "\n",
       "#sk-container-id-5 label.sk-toggleable__label-arrow:before {\n",
       "  /* Arrow on the left of the label */\n",
       "  content: \"▸\";\n",
       "  float: left;\n",
       "  margin-right: 0.25em;\n",
       "  color: var(--sklearn-color-icon);\n",
       "}\n",
       "\n",
       "#sk-container-id-5 label.sk-toggleable__label-arrow:hover:before {\n",
       "  color: var(--sklearn-color-text);\n",
       "}\n",
       "\n",
       "/* Toggleable content - dropdown */\n",
       "\n",
       "#sk-container-id-5 div.sk-toggleable__content {\n",
       "  max-height: 0;\n",
       "  max-width: 0;\n",
       "  overflow: hidden;\n",
       "  text-align: left;\n",
       "  /* unfitted */\n",
       "  background-color: var(--sklearn-color-unfitted-level-0);\n",
       "}\n",
       "\n",
       "#sk-container-id-5 div.sk-toggleable__content.fitted {\n",
       "  /* fitted */\n",
       "  background-color: var(--sklearn-color-fitted-level-0);\n",
       "}\n",
       "\n",
       "#sk-container-id-5 div.sk-toggleable__content pre {\n",
       "  margin: 0.2em;\n",
       "  border-radius: 0.25em;\n",
       "  color: var(--sklearn-color-text);\n",
       "  /* unfitted */\n",
       "  background-color: var(--sklearn-color-unfitted-level-0);\n",
       "}\n",
       "\n",
       "#sk-container-id-5 div.sk-toggleable__content.fitted pre {\n",
       "  /* unfitted */\n",
       "  background-color: var(--sklearn-color-fitted-level-0);\n",
       "}\n",
       "\n",
       "#sk-container-id-5 input.sk-toggleable__control:checked~div.sk-toggleable__content {\n",
       "  /* Expand drop-down */\n",
       "  max-height: 200px;\n",
       "  max-width: 100%;\n",
       "  overflow: auto;\n",
       "}\n",
       "\n",
       "#sk-container-id-5 input.sk-toggleable__control:checked~label.sk-toggleable__label-arrow:before {\n",
       "  content: \"▾\";\n",
       "}\n",
       "\n",
       "/* Pipeline/ColumnTransformer-specific style */\n",
       "\n",
       "#sk-container-id-5 div.sk-label input.sk-toggleable__control:checked~label.sk-toggleable__label {\n",
       "  color: var(--sklearn-color-text);\n",
       "  background-color: var(--sklearn-color-unfitted-level-2);\n",
       "}\n",
       "\n",
       "#sk-container-id-5 div.sk-label.fitted input.sk-toggleable__control:checked~label.sk-toggleable__label {\n",
       "  background-color: var(--sklearn-color-fitted-level-2);\n",
       "}\n",
       "\n",
       "/* Estimator-specific style */\n",
       "\n",
       "/* Colorize estimator box */\n",
       "#sk-container-id-5 div.sk-estimator input.sk-toggleable__control:checked~label.sk-toggleable__label {\n",
       "  /* unfitted */\n",
       "  background-color: var(--sklearn-color-unfitted-level-2);\n",
       "}\n",
       "\n",
       "#sk-container-id-5 div.sk-estimator.fitted input.sk-toggleable__control:checked~label.sk-toggleable__label {\n",
       "  /* fitted */\n",
       "  background-color: var(--sklearn-color-fitted-level-2);\n",
       "}\n",
       "\n",
       "#sk-container-id-5 div.sk-label label.sk-toggleable__label,\n",
       "#sk-container-id-5 div.sk-label label {\n",
       "  /* The background is the default theme color */\n",
       "  color: var(--sklearn-color-text-on-default-background);\n",
       "}\n",
       "\n",
       "/* On hover, darken the color of the background */\n",
       "#sk-container-id-5 div.sk-label:hover label.sk-toggleable__label {\n",
       "  color: var(--sklearn-color-text);\n",
       "  background-color: var(--sklearn-color-unfitted-level-2);\n",
       "}\n",
       "\n",
       "/* Label box, darken color on hover, fitted */\n",
       "#sk-container-id-5 div.sk-label.fitted:hover label.sk-toggleable__label.fitted {\n",
       "  color: var(--sklearn-color-text);\n",
       "  background-color: var(--sklearn-color-fitted-level-2);\n",
       "}\n",
       "\n",
       "/* Estimator label */\n",
       "\n",
       "#sk-container-id-5 div.sk-label label {\n",
       "  font-family: monospace;\n",
       "  font-weight: bold;\n",
       "  display: inline-block;\n",
       "  line-height: 1.2em;\n",
       "}\n",
       "\n",
       "#sk-container-id-5 div.sk-label-container {\n",
       "  text-align: center;\n",
       "}\n",
       "\n",
       "/* Estimator-specific */\n",
       "#sk-container-id-5 div.sk-estimator {\n",
       "  font-family: monospace;\n",
       "  border: 1px dotted var(--sklearn-color-border-box);\n",
       "  border-radius: 0.25em;\n",
       "  box-sizing: border-box;\n",
       "  margin-bottom: 0.5em;\n",
       "  /* unfitted */\n",
       "  background-color: var(--sklearn-color-unfitted-level-0);\n",
       "}\n",
       "\n",
       "#sk-container-id-5 div.sk-estimator.fitted {\n",
       "  /* fitted */\n",
       "  background-color: var(--sklearn-color-fitted-level-0);\n",
       "}\n",
       "\n",
       "/* on hover */\n",
       "#sk-container-id-5 div.sk-estimator:hover {\n",
       "  /* unfitted */\n",
       "  background-color: var(--sklearn-color-unfitted-level-2);\n",
       "}\n",
       "\n",
       "#sk-container-id-5 div.sk-estimator.fitted:hover {\n",
       "  /* fitted */\n",
       "  background-color: var(--sklearn-color-fitted-level-2);\n",
       "}\n",
       "\n",
       "/* Specification for estimator info (e.g. \"i\" and \"?\") */\n",
       "\n",
       "/* Common style for \"i\" and \"?\" */\n",
       "\n",
       ".sk-estimator-doc-link,\n",
       "a:link.sk-estimator-doc-link,\n",
       "a:visited.sk-estimator-doc-link {\n",
       "  float: right;\n",
       "  font-size: smaller;\n",
       "  line-height: 1em;\n",
       "  font-family: monospace;\n",
       "  background-color: var(--sklearn-color-background);\n",
       "  border-radius: 1em;\n",
       "  height: 1em;\n",
       "  width: 1em;\n",
       "  text-decoration: none !important;\n",
       "  margin-left: 1ex;\n",
       "  /* unfitted */\n",
       "  border: var(--sklearn-color-unfitted-level-1) 1pt solid;\n",
       "  color: var(--sklearn-color-unfitted-level-1);\n",
       "}\n",
       "\n",
       ".sk-estimator-doc-link.fitted,\n",
       "a:link.sk-estimator-doc-link.fitted,\n",
       "a:visited.sk-estimator-doc-link.fitted {\n",
       "  /* fitted */\n",
       "  border: var(--sklearn-color-fitted-level-1) 1pt solid;\n",
       "  color: var(--sklearn-color-fitted-level-1);\n",
       "}\n",
       "\n",
       "/* On hover */\n",
       "div.sk-estimator:hover .sk-estimator-doc-link:hover,\n",
       ".sk-estimator-doc-link:hover,\n",
       "div.sk-label-container:hover .sk-estimator-doc-link:hover,\n",
       ".sk-estimator-doc-link:hover {\n",
       "  /* unfitted */\n",
       "  background-color: var(--sklearn-color-unfitted-level-3);\n",
       "  color: var(--sklearn-color-background);\n",
       "  text-decoration: none;\n",
       "}\n",
       "\n",
       "div.sk-estimator.fitted:hover .sk-estimator-doc-link.fitted:hover,\n",
       ".sk-estimator-doc-link.fitted:hover,\n",
       "div.sk-label-container:hover .sk-estimator-doc-link.fitted:hover,\n",
       ".sk-estimator-doc-link.fitted:hover {\n",
       "  /* fitted */\n",
       "  background-color: var(--sklearn-color-fitted-level-3);\n",
       "  color: var(--sklearn-color-background);\n",
       "  text-decoration: none;\n",
       "}\n",
       "\n",
       "/* Span, style for the box shown on hovering the info icon */\n",
       ".sk-estimator-doc-link span {\n",
       "  display: none;\n",
       "  z-index: 9999;\n",
       "  position: relative;\n",
       "  font-weight: normal;\n",
       "  right: .2ex;\n",
       "  padding: .5ex;\n",
       "  margin: .5ex;\n",
       "  width: min-content;\n",
       "  min-width: 20ex;\n",
       "  max-width: 50ex;\n",
       "  color: var(--sklearn-color-text);\n",
       "  box-shadow: 2pt 2pt 4pt #999;\n",
       "  /* unfitted */\n",
       "  background: var(--sklearn-color-unfitted-level-0);\n",
       "  border: .5pt solid var(--sklearn-color-unfitted-level-3);\n",
       "}\n",
       "\n",
       ".sk-estimator-doc-link.fitted span {\n",
       "  /* fitted */\n",
       "  background: var(--sklearn-color-fitted-level-0);\n",
       "  border: var(--sklearn-color-fitted-level-3);\n",
       "}\n",
       "\n",
       ".sk-estimator-doc-link:hover span {\n",
       "  display: block;\n",
       "}\n",
       "\n",
       "/* \"?\"-specific style due to the `<a>` HTML tag */\n",
       "\n",
       "#sk-container-id-5 a.estimator_doc_link {\n",
       "  float: right;\n",
       "  font-size: 1rem;\n",
       "  line-height: 1em;\n",
       "  font-family: monospace;\n",
       "  background-color: var(--sklearn-color-background);\n",
       "  border-radius: 1rem;\n",
       "  height: 1rem;\n",
       "  width: 1rem;\n",
       "  text-decoration: none;\n",
       "  /* unfitted */\n",
       "  color: var(--sklearn-color-unfitted-level-1);\n",
       "  border: var(--sklearn-color-unfitted-level-1) 1pt solid;\n",
       "}\n",
       "\n",
       "#sk-container-id-5 a.estimator_doc_link.fitted {\n",
       "  /* fitted */\n",
       "  border: var(--sklearn-color-fitted-level-1) 1pt solid;\n",
       "  color: var(--sklearn-color-fitted-level-1);\n",
       "}\n",
       "\n",
       "/* On hover */\n",
       "#sk-container-id-5 a.estimator_doc_link:hover {\n",
       "  /* unfitted */\n",
       "  background-color: var(--sklearn-color-unfitted-level-3);\n",
       "  color: var(--sklearn-color-background);\n",
       "  text-decoration: none;\n",
       "}\n",
       "\n",
       "#sk-container-id-5 a.estimator_doc_link.fitted:hover {\n",
       "  /* fitted */\n",
       "  background-color: var(--sklearn-color-fitted-level-3);\n",
       "}\n",
       "</style><div id=\"sk-container-id-5\" class=\"sk-top-container\"><div class=\"sk-text-repr-fallback\"><pre>GridSearchCV(cv=3,\n",
       "             estimator=TPOTClassifier(max_eval_time_mins=0.04, max_time_mins=3,\n",
       "                                      random_state=101, verbosity=2),\n",
       "             param_grid={&#x27;generations&#x27;: [10, 20, 30],\n",
       "                         &#x27;population_size&#x27;: [50, 100, 200]},\n",
       "             scoring=&#x27;accuracy&#x27;)</pre><b>In a Jupyter environment, please rerun this cell to show the HTML representation or trust the notebook. <br />On GitHub, the HTML representation is unable to render, please try loading this page with nbviewer.org.</b></div><div class=\"sk-container\" hidden><div class=\"sk-item sk-dashed-wrapped\"><div class=\"sk-label-container\"><div class=\"sk-label fitted sk-toggleable\"><input class=\"sk-toggleable__control sk-hidden--visually\" id=\"sk-estimator-id-7\" type=\"checkbox\" ><label for=\"sk-estimator-id-7\" class=\"sk-toggleable__label fitted sk-toggleable__label-arrow fitted\">&nbsp;&nbsp;GridSearchCV<a class=\"sk-estimator-doc-link fitted\" rel=\"noreferrer\" target=\"_blank\" href=\"https://scikit-learn.org/1.5/modules/generated/sklearn.model_selection.GridSearchCV.html\">?<span>Documentation for GridSearchCV</span></a><span class=\"sk-estimator-doc-link fitted\">i<span>Fitted</span></span></label><div class=\"sk-toggleable__content fitted\"><pre>GridSearchCV(cv=3,\n",
       "             estimator=TPOTClassifier(max_eval_time_mins=0.04, max_time_mins=3,\n",
       "                                      random_state=101, verbosity=2),\n",
       "             param_grid={&#x27;generations&#x27;: [10, 20, 30],\n",
       "                         &#x27;population_size&#x27;: [50, 100, 200]},\n",
       "             scoring=&#x27;accuracy&#x27;)</pre></div> </div></div><div class=\"sk-parallel\"><div class=\"sk-parallel-item\"><div class=\"sk-item\"><div class=\"sk-label-container\"><div class=\"sk-label fitted sk-toggleable\"><input class=\"sk-toggleable__control sk-hidden--visually\" id=\"sk-estimator-id-8\" type=\"checkbox\" ><label for=\"sk-estimator-id-8\" class=\"sk-toggleable__label fitted sk-toggleable__label-arrow fitted\">best_estimator_: TPOTClassifier</label><div class=\"sk-toggleable__content fitted\"><pre>TPOTClassifier(generations=20, max_eval_time_mins=0.04, max_time_mins=3,\n",
       "               population_size=50, random_state=101, verbosity=2)</pre></div> </div></div><div class=\"sk-serial\"><div class=\"sk-item\"><div class=\"sk-estimator fitted sk-toggleable\"><input class=\"sk-toggleable__control sk-hidden--visually\" id=\"sk-estimator-id-9\" type=\"checkbox\" ><label for=\"sk-estimator-id-9\" class=\"sk-toggleable__label fitted sk-toggleable__label-arrow fitted\">TPOTClassifier</label><div class=\"sk-toggleable__content fitted\"><pre>TPOTClassifier(generations=20, max_eval_time_mins=0.04, max_time_mins=3,\n",
       "               population_size=50, random_state=101, verbosity=2)</pre></div> </div></div></div></div></div></div></div></div></div>"
      ],
      "text/plain": [
       "GridSearchCV(cv=3,\n",
       "             estimator=TPOTClassifier(max_eval_time_mins=0.04, max_time_mins=3,\n",
       "                                      random_state=101, verbosity=2),\n",
       "             param_grid={'generations': [10, 20, 30],\n",
       "                         'population_size': [50, 100, 200]},\n",
       "             scoring='accuracy')"
      ]
     },
     "execution_count": 62,
     "metadata": {},
     "output_type": "execute_result"
    }
   ],
   "source": [
    "#Define Grid Search Paramters\n",
    "param_grid = {\n",
    "    'generations': [10, 20, 30],\n",
    "    'population_size': [50, 100, 200],\n",
    "}\n",
    "\n",
    "# Define TPOT Classifier model & do Gridserach\n",
    "tpot = TPOTClassifier(verbosity=2, \n",
    "    max_time_mins=3, \n",
    "    max_eval_time_mins=0.04,\n",
    "    random_state=101) #To ensure reproducibility\n",
    "grid_search = GridSearchCV(estimator=tpot, param_grid=param_grid, cv=3, scoring='accuracy')\n",
    "grid_search.fit(X_train, y_train)\n"
   ]
  },
  {
   "cell_type": "code",
   "execution_count": 68,
   "id": "5af22584-659d-493a-a401-55fc9029dee6",
   "metadata": {},
   "outputs": [
    {
     "data": {
      "text/plain": [
       "0.48"
      ]
     },
     "execution_count": 68,
     "metadata": {},
     "output_type": "execute_result"
    }
   ],
   "source": [
    "grid_search.score(X_test,y_test)"
   ]
  },
  {
   "cell_type": "code",
   "execution_count": 69,
   "id": "a0f125b8-9c75-4d9f-843c-e16fe48ea29f",
   "metadata": {},
   "outputs": [
    {
     "name": "stdout",
     "output_type": "stream",
     "text": [
      "[1 1 1 0 1 0 1 1 1 1 1 1 0 0 0 0 1 1 0 0 0 1 0 0 0]\n"
     ]
    }
   ],
   "source": [
    "preds = grid_search.predict(X_test)\n",
    "print(preds)"
   ]
  }
 ],
 "metadata": {
  "kernelspec": {
   "display_name": "Python 3 (ipykernel)",
   "language": "python",
   "name": "python3"
  },
  "language_info": {
   "codemirror_mode": {
    "name": "ipython",
    "version": 3
   },
   "file_extension": ".py",
   "mimetype": "text/x-python",
   "name": "python",
   "nbconvert_exporter": "python",
   "pygments_lexer": "ipython3",
   "version": "3.11.9"
  }
 },
 "nbformat": 4,
 "nbformat_minor": 5
}
